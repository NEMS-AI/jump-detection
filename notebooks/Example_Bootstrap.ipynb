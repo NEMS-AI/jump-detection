{
 "cells": [
  {
   "cell_type": "code",
   "execution_count": 33,
   "id": "647754d1-f3c1-47bc-b154-4ee8dda4085c",
   "metadata": {},
   "outputs": [
    {
     "name": "stdout",
     "output_type": "stream",
     "text": [
      "The autoreload extension is already loaded. To reload it, use:\n",
      "  %reload_ext autoreload\n"
     ]
    }
   ],
   "source": [
    "%load_ext autoreload\n",
    "%autoreload 2"
   ]
  },
  {
   "cell_type": "code",
   "execution_count": 34,
   "id": "e32ab03d-2da6-4ca8-94aa-4c8bba2bfbfc",
   "metadata": {},
   "outputs": [],
   "source": [
    "import pandas as pd\n",
    "import numpy as np\n",
    "import matplotlib.pyplot as plt\n",
    "from jump_detection.bootstrapper import NoiseBootstrapper\n"
   ]
  },
  {
   "cell_type": "markdown",
   "id": "3d429da5-3be6-4ed5-a607-264722542457",
   "metadata": {},
   "source": [
    "# Initialization"
   ]
  },
  {
   "cell_type": "code",
   "execution_count": 15,
   "id": "b11646b6-580f-4acd-90ff-18c76b99c280",
   "metadata": {},
   "outputs": [],
   "source": [
    "p_value = 0.0001\n",
    "boot = NoiseBootstrapper(p_value)\n"
   ]
  },
  {
   "cell_type": "markdown",
   "id": "52c44eb1-ecef-46d2-9c48-6c935248688d",
   "metadata": {},
   "source": [
    "# Running Boostrap Process"
   ]
  },
  {
   "cell_type": "code",
   "execution_count": 29,
   "id": "3d10a9e8-27e6-4950-a5f4-dea2b434efd6",
   "metadata": {},
   "outputs": [],
   "source": [
    "window_sizes, F_stat_tresh_vals = boot.process_data(\"notebooks/example_data.csv\")"
   ]
  },
  {
   "cell_type": "markdown",
   "id": "e00d9d81-4c5b-41c7-96dd-3a66a8bddc37",
   "metadata": {},
   "source": [
    "# Results\n",
    "\n",
    "The output of the bootstrapping code is a window_size vs F_stat threshold. The final choise for downstream tasks is left to the user, however it is suggested to choose the window size that minimizes the F_stat threshold."
   ]
  },
  {
   "cell_type": "code",
   "execution_count": 32,
   "id": "141e0d5e-096e-4154-a73f-01ccb2e5752c",
   "metadata": {},
   "outputs": [
    {
     "data": {
      "text/plain": [
       "<matplotlib.collections.PathCollection at 0x1398d0250>"
      ]
     },
     "execution_count": 32,
     "metadata": {},
     "output_type": "execute_result"
    },
    {
     "data": {
      "image/png": "[encoded data removed]",
      "text/plain": [
       "<Figure size 432x288 with 1 Axes>"
      ]
     },
     "metadata": {
      "needs_background": "light"
     },
     "output_type": "display_data"
    }
   ],
   "source": [
    "plt.scatter(ret_val[0], ret_val[1])"
   ]
  },
  {
   "cell_type": "code",
   "execution_count": null,
   "id": "516c6758-8ff9-4d78-9abb-a360ca61a5c4",
   "metadata": {},
   "outputs": [],
   "source": []
  }
 ],
 "metadata": {
  "kernelspec": {
   "display_name": "Python 3 (ipykernel)",
   "language": "python",
   "name": "python3"
  },
  "language_info": {
   "codemirror_mode": {
    "name": "ipython",
    "version": 3
   },
   "file_extension": ".py",
   "mimetype": "text/x-python",
   "name": "python",
   "nbconvert_exporter": "python",
   "pygments_lexer": "ipython3",
   "version": "3.9.16"
  }
 },
 "nbformat": 4,
 "nbformat_minor": 5
}
