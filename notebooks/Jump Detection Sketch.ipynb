{
 "cells": [
  {
   "cell_type": "markdown",
   "id": "8057a1f7-0df9-453d-8e17-d2d7394515b3",
   "metadata": {
    "tags": []
   },
   "source": [
    "# Load in Data"
   ]
  },
  {
   "cell_type": "code",
   "execution_count": null,
   "id": "10f965f6-c6f9-4270-a13b-4b43e597c0bf",
   "metadata": {},
   "outputs": [],
   "source": []
  },
  {
   "cell_type": "code",
   "execution_count": null,
   "id": "2826982c-651e-4019-b36f-f75bd20bd8f0",
   "metadata": {},
   "outputs": [],
   "source": []
  },
  {
   "cell_type": "code",
   "execution_count": null,
   "id": "3977cbca-0de5-40c6-bfaa-c95f61c16cb4",
   "metadata": {},
   "outputs": [],
   "source": []
  },
  {
   "cell_type": "code",
   "execution_count": null,
   "id": "fe79419d-a057-40a8-9d56-ecbb1c5415c8",
   "metadata": {},
   "outputs": [],
   "source": []
  },
  {
   "cell_type": "code",
   "execution_count": null,
   "id": "02eb737f-8dec-4c8c-90ce-978442eebcc1",
   "metadata": {},
   "outputs": [],
   "source": []
  },
  {
   "cell_type": "markdown",
   "id": "bee40b19-b903-4778-854f-ccaf60aa8da7",
   "metadata": {},
   "source": [
    "# Get Fstat TS"
   ]
  },
  {
   "cell_type": "code",
   "execution_count": null,
   "id": "22bd5657-b43f-45a6-8d9d-4cba6866337b",
   "metadata": {},
   "outputs": [],
   "source": []
  },
  {
   "cell_type": "markdown",
   "id": "42946c96-4082-40a3-85a7-68f879914211",
   "metadata": {},
   "source": [
    "# Load Select Thresh"
   ]
  },
  {
   "cell_type": "code",
   "execution_count": null,
   "id": "4b88216c-905e-4d00-b173-7d6c1d3e9d2a",
   "metadata": {},
   "outputs": [],
   "source": []
  },
  {
   "cell_type": "markdown",
   "id": "70e44e85-6134-47ae-aee8-6edc8972484a",
   "metadata": {},
   "source": [
    "# Pick Events"
   ]
  },
  {
   "cell_type": "code",
   "execution_count": null,
   "id": "868eee65-660b-4ee5-bb74-ffee72b254f6",
   "metadata": {},
   "outputs": [],
   "source": []
  }
 ],
 "metadata": {
  "kernelspec": {
   "display_name": "Python 3 (ipykernel)",
   "language": "python",
   "name": "python3"
  },
  "language_info": {
   "codemirror_mode": {
    "name": "ipython",
    "version": 3
   },
   "file_extension": ".py",
   "mimetype": "text/x-python",
   "name": "python",
   "nbconvert_exporter": "python",
   "pygments_lexer": "ipython3",
   "version": "3.9.7"
  }
 },
 "nbformat": 4,
 "nbformat_minor": 5
}
