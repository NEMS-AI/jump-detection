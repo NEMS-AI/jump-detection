{
 "cells": [
  {
   "cell_type": "markdown",
   "id": "8057a1f7-0df9-453d-8e17-d2d7394515b3",
   "metadata": {
    "tags": []
   },
   "source": [
    "# Imports and Boilerplate"
   ]
  },
  {
   "cell_type": "code",
   "execution_count": 1,
   "id": "b977e496-5a00-42e8-a6ef-86ef3b33df1e",
   "metadata": {},
   "outputs": [],
   "source": [
    "%load_ext autoreload\n",
    "%autoreload 2"
   ]
  },
  {
   "cell_type": "code",
   "execution_count": 2,
   "id": "10f965f6-c6f9-4270-a13b-4b43e597c0bf",
   "metadata": {},
   "outputs": [],
   "source": [
    "import pandas as pd\n",
    "import numpy as np\n",
    "import matplotlib.pyplot as plt\n"
   ]
  },
  {
   "cell_type": "code",
   "execution_count": 3,
   "id": "b546a835",
   "metadata": {},
   "outputs": [],
   "source": [
    "from jump_detection.processor import TimeSeriesProcessor"
   ]
  },
  {
   "cell_type": "code",
   "execution_count": 4,
   "id": "01f3fa5c-ff8e-4dbe-9eb4-449d6e88f5ae",
   "metadata": {},
   "outputs": [],
   "source": [
    "# Define a window size for the moving covariance\n",
    "window_size = 5"
   ]
  },
  {
   "cell_type": "code",
   "execution_count": 7,
   "id": "270b1751-915a-4bc1-8bc2-b4e568c7757f",
   "metadata": {},
   "outputs": [],
   "source": [
    "# Create some random data for demonstration purposes\n",
    "# This creates a DataFrame with 1000 rows and 5 columns of random numbers between 0 and 1\n",
    "# data = pd.DataFrame(np.random.rand(1000, 5))\n",
    "\n",
    "# You would normally save your data to a CSV and load it with TimeSeriesProcessor.\n",
    "# For the purpose of this demonstration, we'll skip that step and assign the data directly.\n",
    "processor = TimeSeriesProcessor(window_size)\n",
    "# processor.data = data\n",
    "\n",
    "# Process the data\n",
    "segments = processor.process_data(\"example_data.csv\")\n",
    "\n"
   ]
  },
  {
   "cell_type": "code",
   "execution_count": 12,
   "id": "62e54705-6c55-428e-8f7d-0fb862ca0e73",
   "metadata": {},
   "outputs": [
    {
     "data": {
      "text/html": [
       "<div>\n",
       "<style scoped>\n",
       "    .dataframe tbody tr th:only-of-type {\n",
       "        vertical-align: middle;\n",
       "    }\n",
       "\n",
       "    .dataframe tbody tr th {\n",
       "        vertical-align: top;\n",
       "    }\n",
       "\n",
       "    .dataframe thead th {\n",
       "        text-align: right;\n",
       "    }\n",
       "</style>\n",
       "<table border=\"1\" class=\"dataframe\">\n",
       "  <thead>\n",
       "    <tr style=\"text-align: right;\">\n",
       "      <th></th>\n",
       "      <th>0</th>\n",
       "      <th>1</th>\n",
       "      <th>2</th>\n",
       "      <th>3</th>\n",
       "      <th>4</th>\n",
       "    </tr>\n",
       "  </thead>\n",
       "  <tbody>\n",
       "    <tr>\n",
       "      <th>0</th>\n",
       "      <td>0.736350</td>\n",
       "      <td>0.142999</td>\n",
       "      <td>0.425887</td>\n",
       "      <td>0.604167</td>\n",
       "      <td>0.550780</td>\n",
       "    </tr>\n",
       "    <tr>\n",
       "      <th>1</th>\n",
       "      <td>0.675804</td>\n",
       "      <td>0.352918</td>\n",
       "      <td>0.900349</td>\n",
       "      <td>0.988412</td>\n",
       "      <td>0.079779</td>\n",
       "    </tr>\n",
       "    <tr>\n",
       "      <th>2</th>\n",
       "      <td>0.702146</td>\n",
       "      <td>0.589975</td>\n",
       "      <td>0.066487</td>\n",
       "      <td>0.614260</td>\n",
       "      <td>0.724433</td>\n",
       "    </tr>\n",
       "    <tr>\n",
       "      <th>3</th>\n",
       "      <td>0.655386</td>\n",
       "      <td>0.437358</td>\n",
       "      <td>0.464970</td>\n",
       "      <td>0.634625</td>\n",
       "      <td>0.552566</td>\n",
       "    </tr>\n",
       "    <tr>\n",
       "      <th>4</th>\n",
       "      <td>0.996404</td>\n",
       "      <td>0.063771</td>\n",
       "      <td>0.472241</td>\n",
       "      <td>0.405533</td>\n",
       "      <td>0.900574</td>\n",
       "    </tr>\n",
       "    <tr>\n",
       "      <th>5</th>\n",
       "      <td>0.617503</td>\n",
       "      <td>0.530586</td>\n",
       "      <td>0.588521</td>\n",
       "      <td>0.483992</td>\n",
       "      <td>0.312746</td>\n",
       "    </tr>\n",
       "  </tbody>\n",
       "</table>\n",
       "</div>"
      ],
      "text/plain": [
       "          0         1         2         3         4\n",
       "0  0.736350  0.142999  0.425887  0.604167  0.550780\n",
       "1  0.675804  0.352918  0.900349  0.988412  0.079779\n",
       "2  0.702146  0.589975  0.066487  0.614260  0.724433\n",
       "3  0.655386  0.437358  0.464970  0.634625  0.552566\n",
       "4  0.996404  0.063771  0.472241  0.405533  0.900574\n",
       "5  0.617503  0.530586  0.588521  0.483992  0.312746"
      ]
     },
     "execution_count": 12,
     "metadata": {},
     "output_type": "execute_result"
    }
   ],
   "source": [
    "segments[0].covariance"
   ]
  },
  {
   "cell_type": "code",
   "execution_count": 59,
   "id": "7cf4fab6-9c7d-4571-affe-fd0d3810f7b8",
   "metadata": {},
   "outputs": [
    {
     "name": "stdout",
     "output_type": "stream",
     "text": [
      "Segment 0:\n",
      "Original:\n",
      "          0         1         2         3         4\n",
      "0  0.736350  0.142999  0.425887  0.604167  0.550780\n",
      "1  0.675804  0.352918  0.900349  0.988412  0.079779\n",
      "2  0.702146  0.589975  0.066487  0.614260  0.724433\n",
      "3  0.655386  0.437358  0.464970  0.634625  0.552566\n",
      "4  0.996404  0.063771  0.472241  0.405533  0.900574\n",
      "5  0.617503  0.530586  0.588521  0.483992  0.312746\n",
      "6  0.073738  0.002398  0.643502  0.523634  0.810696\n",
      "7  0.119838  0.240574  0.855272  0.594361  0.204767\n",
      "8  0.410712  0.145242  0.041169  0.828295  0.415138\n",
      "9  0.312544  0.821532  0.136404  0.888952  0.647641\n",
      "Covariance:\n",
      "          0         1         2         3         4\n",
      "0  0.736350  0.142999  0.425887  0.604167  0.550780\n",
      "1  0.675804  0.352918  0.900349  0.988412  0.079779\n",
      "2  0.702146  0.589975  0.066487  0.614260  0.724433\n",
      "3  0.655386  0.437358  0.464970  0.634625  0.552566\n",
      "4  0.996404  0.063771  0.472241  0.405533  0.900574\n",
      "5  0.617503  0.530586  0.588521  0.483992  0.312746\n",
      "6  0.073738  0.002398  0.643502  0.523634  0.810696\n",
      "7  0.119838  0.240574  0.855272  0.594361  0.204767\n",
      "8  0.410712  0.145242  0.041169  0.828295  0.415138\n",
      "9  0.312544  0.821532  0.136404  0.888952  0.647641\n",
      "\n",
      "\n",
      "Segment 1:\n",
      "Original:\n",
      "           0         1         2         3         4\n",
      "9   0.312544  0.821532  0.136404  0.888952  0.647641\n",
      "10  0.761585  0.529454  0.056561  0.934384  0.000420\n",
      "11  0.105798  0.127231  0.883415  0.466041  0.648491\n",
      "12  0.746261  0.191246  0.772389  0.593159  0.337004\n",
      "13  0.256404  0.723759  0.313825  0.203523  0.909167\n",
      "14  0.438522  0.881461  0.449532  0.290072  0.831435\n",
      "15  0.239045  0.340028  0.052012  0.834431  0.088194\n",
      "16  0.345192  0.977456  0.533886  0.773130  0.595084\n",
      "17  0.166376  0.630149  0.815666  0.824270  0.522509\n",
      "18  0.077202  0.444459  0.554517  0.372665  0.002838\n",
      "Covariance:\n",
      "           0         1         2         3         4\n",
      "9   0.312544  0.821532  0.136404  0.888952  0.647641\n",
      "10  0.761585  0.529454  0.056561  0.934384  0.000420\n",
      "11  0.105798  0.127231  0.883415  0.466041  0.648491\n",
      "12  0.746261  0.191246  0.772389  0.593159  0.337004\n",
      "13  0.256404  0.723759  0.313825  0.203523  0.909167\n",
      "14  0.438522  0.881461  0.449532  0.290072  0.831435\n",
      "15  0.239045  0.340028  0.052012  0.834431  0.088194\n",
      "16  0.345192  0.977456  0.533886  0.773130  0.595084\n",
      "17  0.166376  0.630149  0.815666  0.824270  0.522509\n",
      "18  0.077202  0.444459  0.554517  0.372665  0.002838\n",
      "\n",
      "\n"
     ]
    }
   ],
   "source": [
    "# Now segments contains a list of Segment objects.\n",
    "# We can loop through the segments and print them out\n",
    "for i, segment in enumerate(segments[0:2]):\n",
    "    print(f\"Segment {i}:\")\n",
    "    print(\"Original:\")\n",
    "    print(segment.original)\n",
    "    print(\"Covariance:\")\n",
    "    print(segment.covariance)\n",
    "    print(\"\\n\")"
   ]
  },
  {
   "cell_type": "code",
   "execution_count": null,
   "id": "b5b21d02-b69f-40fd-a5ee-e10936a3d7f4",
   "metadata": {},
   "outputs": [],
   "source": []
  },
  {
   "cell_type": "markdown",
   "id": "db660cc9-2bad-48a5-9f69-d305aecff941",
   "metadata": {},
   "source": [
    "# Testing on random values"
   ]
  },
  {
   "cell_type": "code",
   "execution_count": null,
   "id": "0c1a9579-19cf-4d5c-be7b-60b8f6cc08f8",
   "metadata": {},
   "outputs": [],
   "source": []
  },
  {
   "cell_type": "code",
   "execution_count": null,
   "id": "95b6d393-5640-45bc-8d4c-9102e83f3fc9",
   "metadata": {},
   "outputs": [],
   "source": []
  },
  {
   "cell_type": "markdown",
   "id": "e830df00-dadd-49ae-870b-0c89f65d340c",
   "metadata": {},
   "source": [
    "# Testing on Data "
   ]
  },
  {
   "cell_type": "code",
   "execution_count": null,
   "id": "dd62c4a6",
   "metadata": {},
   "outputs": [],
   "source": [
    "# Create Processor object with a window size of 10\n",
    "# Note that this means right window and left window are 5\n",
    "p1 =  processor.Processor(800, 0)\n",
    "p2 = processor.Processor(800, 0)\n",
    "p2.get_events_from_file(\"1_inst_exp_events_short.csv\")"
   ]
  },
  {
   "cell_type": "code",
   "execution_count": null,
   "id": "ed2c312c-f934-4449-a9f6-8fa04cdfecb6",
   "metadata": {},
   "outputs": [],
   "source": []
  },
  {
   "cell_type": "markdown",
   "id": "a747fffa-86db-4d50-86f6-df797837670c",
   "metadata": {},
   "source": []
  },
  {
   "cell_type": "code",
   "execution_count": null,
   "id": "da45b27f",
   "metadata": {},
   "outputs": [],
   "source": [
    "# Load in Data\n",
    "df_full = read_data(\"1_inst_exp_data_short.csv\", names = [\"Time\", \"Mode1\", \"Mode2\"])\n",
    "#p1.process_data(df_in)"
   ]
  },
  {
   "cell_type": "code",
   "execution_count": null,
   "id": "10e4e649-fcd8-4043-935c-d77490307887",
   "metadata": {},
   "outputs": [],
   "source": [
    "s1 = segment.Segment(df_full, df_full)"
   ]
  },
  {
   "cell_type": "code",
   "execution_count": null,
   "id": "56442d88-cb93-4aa6-b392-85677649536d",
   "metadata": {},
   "outputs": [],
   "source": [
    "s1"
   ]
  },
  {
   "cell_type": "code",
   "execution_count": null,
   "id": "80323c06-e33e-46fd-9172-828304717c23",
   "metadata": {},
   "outputs": [],
   "source": [
    "?segment.Segment"
   ]
  },
  {
   "cell_type": "code",
   "execution_count": null,
   "id": "fd5bbe5f",
   "metadata": {},
   "outputs": [],
   "source": [
    "df_in = df_full[0:100000]"
   ]
  },
  {
   "cell_type": "code",
   "execution_count": null,
   "id": "15f1dd03",
   "metadata": {},
   "outputs": [],
   "source": [
    "df_in.plot(x=\"Time\", y=[\"Mode1\", \"Mode2\"],\n",
    "        kind=\"line\", figsize=(10, 10))\n"
   ]
  },
  {
   "cell_type": "code",
   "execution_count": null,
   "id": "7fb1da20",
   "metadata": {},
   "outputs": [],
   "source": [
    "df_in.head()"
   ]
  },
  {
   "cell_type": "markdown",
   "id": "bee40b19-b903-4778-854f-ccaf60aa8da7",
   "metadata": {},
   "source": [
    "# Get Fstat TS"
   ]
  },
  {
   "cell_type": "code",
   "execution_count": null,
   "id": "22bd5657-b43f-45a6-8d9d-4cba6866337b",
   "metadata": {},
   "outputs": [],
   "source": []
  },
  {
   "cell_type": "code",
   "execution_count": null,
   "id": "0e65f256",
   "metadata": {},
   "outputs": [],
   "source": [
    "# Slider moves along df and gets a new df for f_vals\n",
    "\n",
    "# Old Method\n",
    "# f_vals = p1.slider.moving_T2Test(df_in)\n",
    "\n",
    "f_vals = p1.slider.moving_T2Test_fast(df_in)"
   ]
  },
  {
   "cell_type": "code",
   "execution_count": null,
   "id": "4a4b717b",
   "metadata": {},
   "outputs": [],
   "source": [
    "f_vals.head()"
   ]
  },
  {
   "cell_type": "markdown",
   "id": "70e44e85-6134-47ae-aee8-6edc8972484a",
   "metadata": {},
   "source": [
    "# Pick Events"
   ]
  },
  {
   "cell_type": "code",
   "execution_count": null,
   "id": "e6bc4cbf",
   "metadata": {},
   "outputs": [],
   "source": [
    "from scipy.signal import find_peaks\n",
    "\n",
    "# Quick plot to check the prominence level to be reasonable\n",
    "x = f_vals[\"FStat\"].to_numpy()\n",
    "peaks, properties = find_peaks(x, prominence=500)\n",
    "\n",
    "plt.plot(x)\n",
    "plt.plot(peaks, x[peaks], \"x\")\n",
    "plt.show()"
   ]
  },
  {
   "cell_type": "code",
   "execution_count": null,
   "id": "868eee65-660b-4ee5-bb74-ffee72b254f6",
   "metadata": {
    "scrolled": true
   },
   "outputs": [],
   "source": []
  },
  {
   "cell_type": "code",
   "execution_count": null,
   "id": "2149e078",
   "metadata": {},
   "outputs": [],
   "source": [
    "p1.get_events_from_fstat(f_vals, prominence = 500)"
   ]
  },
  {
   "cell_type": "code",
   "execution_count": null,
   "id": "c7a2d007",
   "metadata": {},
   "outputs": [],
   "source": []
  },
  {
   "cell_type": "code",
   "execution_count": null,
   "id": "3a06e730",
   "metadata": {},
   "outputs": [],
   "source": [
    "event = 6\n",
    "potential_event_f = p1.get_event(event, f_vals)\n",
    "potential_event_f.plot(x=\"Time\", y=[\"FStat\"],\n",
    "        kind=\"line\", figsize=(2, 2))\n",
    "\n",
    "potential_event = p1.get_event(event, df_in)\n",
    "potential_event.plot(x=\"Time\", y=[\"Mode1\"],\n",
    "        kind=\"line\", figsize=(2, 2))\n",
    "\n",
    "potential_event = p1.get_event(event, df_in)\n",
    "potential_event.plot(x=\"Time\", y=[\"Mode2\"],\n",
    "        kind=\"line\", figsize=(2, 2))"
   ]
  },
  {
   "cell_type": "code",
   "execution_count": null,
   "id": "1a223550",
   "metadata": {},
   "outputs": [],
   "source": []
  },
  {
   "cell_type": "markdown",
   "id": "a4001494",
   "metadata": {},
   "source": [
    "# Calculate Peak Stats"
   ]
  },
  {
   "cell_type": "code",
   "execution_count": null,
   "id": "7b46391d",
   "metadata": {},
   "outputs": [],
   "source": [
    "event_example = p1.get_event(4, f_vals)"
   ]
  },
  {
   "cell_type": "code",
   "execution_count": null,
   "id": "e9974e4d",
   "metadata": {},
   "outputs": [],
   "source": [
    "event_example.head()"
   ]
  },
  {
   "cell_type": "code",
   "execution_count": null,
   "id": "c93d16b8",
   "metadata": {},
   "outputs": [],
   "source": [
    "p1.process_events(f_vals)"
   ]
  },
  {
   "cell_type": "code",
   "execution_count": null,
   "id": "41fbf965",
   "metadata": {},
   "outputs": [],
   "source": [
    "p1.events"
   ]
  },
  {
   "cell_type": "code",
   "execution_count": null,
   "id": "e5a02f33",
   "metadata": {},
   "outputs": [],
   "source": [
    "p2.process_events(f_vals)"
   ]
  },
  {
   "cell_type": "markdown",
   "id": "2a4fc339",
   "metadata": {},
   "source": [
    "## Clustering"
   ]
  },
  {
   "cell_type": "code",
   "execution_count": null,
   "id": "b792c8ef",
   "metadata": {},
   "outputs": [],
   "source": [
    "data.hist()\n",
    "plt.show()"
   ]
  },
  {
   "cell_type": "code",
   "execution_count": null,
   "id": "aac48d71",
   "metadata": {},
   "outputs": [],
   "source": []
  },
  {
   "cell_type": "code",
   "execution_count": null,
   "id": "678ab66a",
   "metadata": {},
   "outputs": [],
   "source": [
    "data = pd.DataFrame.from_dict(p1.events, orient = 'index')\n",
    "normalized = normalize_features(data, [\"M1\", \"M2\", \"M3\", \"M4\"])\n",
    "candidate_eps = get_eps(normalized)\n",
    "# candidate_eps = 1.98\n",
    "labels = get_class_labels(normalized, candidate_eps)\n",
    "p1.label_events(labels)\n"
   ]
  },
  {
   "cell_type": "code",
   "execution_count": null,
   "id": "f8f14115",
   "metadata": {},
   "outputs": [],
   "source": [
    "candidate_eps"
   ]
  },
  {
   "cell_type": "code",
   "execution_count": null,
   "id": "3030fbb5",
   "metadata": {},
   "outputs": [],
   "source": [
    "p1.measure_events(df_in)"
   ]
  },
  {
   "cell_type": "markdown",
   "id": "340d0aef",
   "metadata": {},
   "source": [
    "# Fast Fstat"
   ]
  },
  {
   "cell_type": "code",
   "execution_count": null,
   "id": "cda35dbc",
   "metadata": {},
   "outputs": [],
   "source": []
  },
  {
   "cell_type": "code",
   "execution_count": null,
   "id": "51231726",
   "metadata": {},
   "outputs": [],
   "source": [
    "data = pd.DataFrame.from_dict(p1.events, orient = 'index').dropna()\n"
   ]
  },
  {
   "cell_type": "code",
   "execution_count": null,
   "id": "417f836b",
   "metadata": {},
   "outputs": [],
   "source": [
    "arr = np.concatenate(data['meas'].values).reshape((-1, len(data)))\n",
    "\n",
    "# plot the transposed array\n",
    "plt.scatter(arr[0], arr[1])\n",
    "plt.xlim(-3e-6, 0)\n",
    "plt.ylim(-3e-6, 0)\n",
    "\n",
    "plt.show()"
   ]
  },
  {
   "cell_type": "code",
   "execution_count": null,
   "id": "e1c1e33a",
   "metadata": {},
   "outputs": [],
   "source": [
    "# import time"
   ]
  },
  {
   "cell_type": "code",
   "execution_count": null,
   "id": "f805002a",
   "metadata": {},
   "outputs": [],
   "source": [
    "# ts_vals = df_in.iloc[:,1:].to_numpy()"
   ]
  },
  {
   "cell_type": "code",
   "execution_count": null,
   "id": "f6f4f43f",
   "metadata": {},
   "outputs": [],
   "source": [
    "# def FUNC(Z):\n",
    "#     X, Y = np.split(Z, 2, axis=0)\n",
    "#     result = TwoSampleT2TestHelper(X, Y)\n",
    "#     return result\n",
    "\n",
    "\n",
    "\n",
    "# def FUNC2(Z):\n",
    "#     Z_reshaped = Z.reshape((800, 2))\n",
    "#     X, Y = np.split(Z_reshaped, 2, axis=0)\n",
    "#     result = TwoSampleT2TestHelper(X, Y)\n",
    "#     return result\n",
    "\n",
    "# tic = time.perf_counter()\n",
    "\n",
    "# ARR = ts_vals\n",
    "# window_size = 800\n",
    "# stride = 1\n",
    "# # Define the window size and stride\n",
    "\n",
    "\n",
    "# # Compute the start indices of all windows\n",
    "# start_indices = np.arange(num_windows) * stride\n",
    "\n",
    "# # Reshape the start indices into a 2D array of shape (num_windows, 1)\n",
    "# start_indices = start_indices.reshape(num_windows, 1)\n",
    "\n",
    "# # Compute the row indices of all windows using broadcasting\n",
    "# row_indices = start_indices + np.arange(window_size)\n",
    "\n",
    "# # Extract the windows using advanced indexing\n",
    "# windows = ARR[row_indices[:-1], :]\n",
    "\n",
    "# # Apply FUNC to each window separately using apply_along_axis\n",
    "\n",
    "# windows_reshaped = windows.reshape((windows.shape[0], windows.shape[1] * windows.shape[2]))\n",
    "\n",
    "# res2 = np.apply_along_axis(FUNC2, axis = 1, arr = windows_reshaped)\n",
    "# # # Compute the mean of the result along the rows of each window\n",
    "# # result2 = np.mean(result, axis=1)\n",
    "# toc = time.perf_counter()\n",
    "# print(toc-tic)"
   ]
  },
  {
   "cell_type": "code",
   "execution_count": null,
   "id": "5ed9ec3b",
   "metadata": {},
   "outputs": [],
   "source": []
  },
  {
   "cell_type": "code",
   "execution_count": null,
   "id": "754aa943",
   "metadata": {
    "scrolled": true
   },
   "outputs": [],
   "source": [
    "plt.scatter(arr)"
   ]
  },
  {
   "cell_type": "code",
   "execution_count": null,
   "id": "de3f6339",
   "metadata": {},
   "outputs": [],
   "source": []
  },
  {
   "cell_type": "code",
   "execution_count": null,
   "id": "cfafedbe",
   "metadata": {},
   "outputs": [],
   "source": []
  },
  {
   "cell_type": "code",
   "execution_count": null,
   "id": "36ed28b3",
   "metadata": {},
   "outputs": [],
   "source": [
    "windows.shape"
   ]
  }
 ],
 "metadata": {
  "kernelspec": {
   "display_name": "Python 3 (ipykernel)",
   "language": "python",
   "name": "python3"
  },
  "language_info": {
   "codemirror_mode": {
    "name": "ipython",
    "version": 3
   },
   "file_extension": ".py",
   "mimetype": "text/x-python",
   "name": "python",
   "nbconvert_exporter": "python",
   "pygments_lexer": "ipython3",
   "version": "3.9.16"
  }
 },
 "nbformat": 4,
 "nbformat_minor": 5
}
