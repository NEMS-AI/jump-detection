{
 "cells": [
  {
   "cell_type": "markdown",
   "id": "573a2b07-1fe3-43e4-a6a6-727df277ba70",
   "metadata": {},
   "source": [
    "# Imports and Boilerplate"
   ]
  },
  {
   "cell_type": "code",
   "execution_count": 1,
   "id": "fd473b79-2d8f-49cb-84b4-821c6d0751b8",
   "metadata": {},
   "outputs": [],
   "source": [
    "%load_ext autoreload\n",
    "%autoreload 2"
   ]
  },
  {
   "cell_type": "code",
   "execution_count": 2,
   "id": "3d4152e5-3634-4ec5-9185-091fd44abba0",
   "metadata": {},
   "outputs": [],
   "source": [
    "import pandas as pd\n",
    "import numpy as np\n",
    "import matplotlib.pyplot as plt\n"
   ]
  },
  {
   "cell_type": "code",
   "execution_count": 3,
   "id": "fe44ae8f-9073-47ac-92d2-eddf25c2378c",
   "metadata": {},
   "outputs": [],
   "source": [
    "from jump_detection.processor import TimeSeriesProcessor"
   ]
  },
  {
   "cell_type": "markdown",
   "id": "eaf52dba-c636-4549-a916-94d8b724fcc0",
   "metadata": {},
   "source": [
    "# Initialization\n"
   ]
  },
  {
   "cell_type": "code",
   "execution_count": 4,
   "id": "4b7715b7-6910-4027-942d-26e7b6ac87f8",
   "metadata": {},
   "outputs": [],
   "source": [
    "# Define a window size for the moving Fstat\n",
    "window_size = 5\n",
    "gap_size = 0\n",
    "processor = TimeSeriesProcessor(window_size, gap_size)\n",
    "segments = processor.process_data(\"example_data.csv\")\n"
   ]
  },
  {
   "cell_type": "code",
   "execution_count": 5,
   "id": "4a35dc79-e5e8-4a78-aea3-f4f1145d122c",
   "metadata": {},
   "outputs": [
    {
     "name": "stdout",
     "output_type": "stream",
     "text": [
      "Segment 0:\n",
      "Original:\n",
      "          0         1         2         3         4\n",
      "0  0.736350  0.142999  0.425887  0.604167  0.550780\n",
      "1  0.675804  0.352918  0.900349  0.988412  0.079779\n",
      "2  0.702146  0.589975  0.066487  0.614260  0.724433\n",
      "3  0.655386  0.437358  0.464970  0.634625  0.552566\n",
      "4  0.996404  0.063771  0.472241  0.405533  0.900574\n",
      "5  0.617503  0.530586  0.588521  0.483992  0.312746\n",
      "Covariance:\n",
      "          0         1         2         3         4\n",
      "0  0.736350  0.142999  0.425887  0.604167  0.550780\n",
      "1  0.675804  0.352918  0.900349  0.988412  0.079779\n",
      "2  0.702146  0.589975  0.066487  0.614260  0.724433\n",
      "3  0.655386  0.437358  0.464970  0.634625  0.552566\n",
      "4  0.996404  0.063771  0.472241  0.405533  0.900574\n",
      "5  0.617503  0.530586  0.588521  0.483992  0.312746\n",
      "\n",
      "\n",
      "Segment 1:\n",
      "Original:\n",
      "           0         1         2         3         4\n",
      "1   0.675804  0.352918  0.900349  0.988412  0.079779\n",
      "2   0.702146  0.589975  0.066487  0.614260  0.724433\n",
      "3   0.655386  0.437358  0.464970  0.634625  0.552566\n",
      "4   0.996404  0.063771  0.472241  0.405533  0.900574\n",
      "5   0.617503  0.530586  0.588521  0.483992  0.312746\n",
      "6   0.073738  0.002398  0.643502  0.523634  0.810696\n",
      "7   0.119838  0.240574  0.855272  0.594361  0.204767\n",
      "8   0.410712  0.145242  0.041169  0.828295  0.415138\n",
      "9   0.312544  0.821532  0.136404  0.888952  0.647641\n",
      "10  0.761585  0.529454  0.056561  0.934384  0.000420\n",
      "Covariance:\n",
      "           0         1         2         3         4\n",
      "1   0.675804  0.352918  0.900349  0.988412  0.079779\n",
      "2   0.702146  0.589975  0.066487  0.614260  0.724433\n",
      "3   0.655386  0.437358  0.464970  0.634625  0.552566\n",
      "4   0.996404  0.063771  0.472241  0.405533  0.900574\n",
      "5   0.617503  0.530586  0.588521  0.483992  0.312746\n",
      "6   0.073738  0.002398  0.643502  0.523634  0.810696\n",
      "7   0.119838  0.240574  0.855272  0.594361  0.204767\n",
      "8   0.410712  0.145242  0.041169  0.828295  0.415138\n",
      "9   0.312544  0.821532  0.136404  0.888952  0.647641\n",
      "10  0.761585  0.529454  0.056561  0.934384  0.000420\n",
      "\n",
      "\n"
     ]
    }
   ],
   "source": [
    "# Now segments contains a list of Segment objects.\n",
    "# We can loop through the segments and print them out\n",
    "for i, segment in enumerate(segments[0:2]):\n",
    "    print(f\"Segment {i}:\")\n",
    "    print(\"Original:\")\n",
    "    print(segment.original)\n",
    "    print(\"Fstats:\")\n",
    "    print(segment.Fstats)\n",
    "    print(\"\\n\")"
   ]
  },
  {
   "cell_type": "code",
   "execution_count": null,
   "id": "e9a9ad66-1b78-4c79-b505-45e03b3673a3",
   "metadata": {},
   "outputs": [],
   "source": []
  },
  {
   "cell_type": "code",
   "execution_count": null,
   "id": "453add1a-3ad4-4593-b5db-341f995f0c4b",
   "metadata": {},
   "outputs": [],
   "source": []
  },
  {
   "cell_type": "code",
   "execution_count": null,
   "id": "a40c5584-1def-43cc-b27a-005be07dcc9e",
   "metadata": {},
   "outputs": [],
   "source": []
  },
  {
   "cell_type": "code",
   "execution_count": null,
   "id": "a727b482-69b7-4da4-8009-d388bd09a106",
   "metadata": {},
   "outputs": [],
   "source": []
  },
  {
   "cell_type": "code",
   "execution_count": null,
   "id": "1b8e284e-c0ee-45fe-81f4-becf9e7936a4",
   "metadata": {},
   "outputs": [],
   "source": []
  }
 ],
 "metadata": {
  "kernelspec": {
   "display_name": "Python 3 (ipykernel)",
   "language": "python",
   "name": "python3"
  },
  "language_info": {
   "codemirror_mode": {
    "name": "ipython",
    "version": 3
   },
   "file_extension": ".py",
   "mimetype": "text/x-python",
   "name": "python",
   "nbconvert_exporter": "python",
   "pygments_lexer": "ipython3",
   "version": "3.9.16"
  }
 },
 "nbformat": 4,
 "nbformat_minor": 5
}
