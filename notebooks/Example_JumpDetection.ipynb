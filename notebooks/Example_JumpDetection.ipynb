{
 "cells": [
  {
   "cell_type": "markdown",
   "id": "573a2b07-1fe3-43e4-a6a6-727df277ba70",
   "metadata": {},
   "source": [
    "# Imports and Boilerplate"
   ]
  },
  {
   "cell_type": "code",
   "execution_count": 10,
   "id": "fd473b79-2d8f-49cb-84b4-821c6d0751b8",
   "metadata": {},
   "outputs": [
    {
     "name": "stdout",
     "output_type": "stream",
     "text": [
      "The autoreload extension is already loaded. To reload it, use:\n",
      "  %reload_ext autoreload\n"
     ]
    }
   ],
   "source": [
    "%load_ext autoreload\n",
    "%autoreload 2"
   ]
  },
  {
   "cell_type": "code",
   "execution_count": 11,
   "id": "3d4152e5-3634-4ec5-9185-091fd44abba0",
   "metadata": {},
   "outputs": [],
   "source": [
    "import pandas as pd\n",
    "import numpy as np\n",
    "import matplotlib.pyplot as plt\n"
   ]
  },
  {
   "cell_type": "code",
   "execution_count": 12,
   "id": "fe44ae8f-9073-47ac-92d2-eddf25c2378c",
   "metadata": {},
   "outputs": [],
   "source": [
    "from jump_detection.processor import TimeSeriesProcessor\n",
    "from jump_detection.utils import normalize_features, get_eps, get_class_labels, calculate_median_jump, normalize_jump\n",
    "from jump_detection.rolling_Ftest import *"
   ]
  },
  {
   "cell_type": "markdown",
   "id": "eaf52dba-c636-4549-a916-94d8b724fcc0",
   "metadata": {},
   "source": [
    "# Initialization\n"
   ]
  },
  {
   "cell_type": "code",
   "execution_count": 20,
   "id": "4b7715b7-6910-4027-942d-26e7b6ac87f8",
   "metadata": {},
   "outputs": [],
   "source": [
    "# Define a window size for the moving Fstat\n",
    "window_size = 10\n",
    "gap_size = 10\n"
   ]
  },
  {
   "cell_type": "markdown",
   "id": "785fa2dd-6866-4f55-8d9c-b2eed57f5e3c",
   "metadata": {},
   "source": [
    "# Step 1: Identify all jumps"
   ]
  },
  {
   "cell_type": "code",
   "execution_count": 21,
   "id": "4a35dc79-e5e8-4a78-aea3-f4f1145d122c",
   "metadata": {},
   "outputs": [],
   "source": [
    "processor = TimeSeriesProcessor(window_size, gap_size)\n",
    "processor.load_data(\"13_4_decay_exp_data.csv\")\n",
    "processor.data = processor.data[0:100,1:]"
   ]
  },
  {
   "cell_type": "code",
   "execution_count": 22,
   "id": "4c063908-c203-4aaf-9c69-ccf7026d8c2f",
   "metadata": {},
   "outputs": [
    {
     "data": {
      "image/png": "[encoded data removed]",
      "text/plain": [
       "<Figure size 432x288 with 1 Axes>"
      ]
     },
     "metadata": {
      "needs_background": "light"
     },
     "output_type": "display_data"
    }
   ],
   "source": [
    "plt.plot(processor.data[:,1])\n",
    "plt.show()"
   ]
  },
  {
   "cell_type": "code",
   "execution_count": 23,
   "id": "64868380-a8f4-4cf0-b974-f37cf0e6664b",
   "metadata": {},
   "outputs": [
    {
     "data": {
      "text/plain": [
       "(100, 2)"
      ]
     },
     "execution_count": 23,
     "metadata": {},
     "output_type": "execute_result"
    }
   ],
   "source": [
    "processor.data.shape"
   ]
  },
  {
   "cell_type": "code",
   "execution_count": 24,
   "id": "40be4657-a83e-4d80-997b-02f25f3e7d8e",
   "metadata": {},
   "outputs": [
    {
     "name": "stdout",
     "output_type": "stream",
     "text": [
      "Help on CPUDispatcher in module jump_detection.rolling_Ftest:\n",
      "\n",
      "rolling_F_statistic(X_samples, n1, n2, g)\n",
      "    Return F-statistic of rolling window over sequence of random samples\n",
      "    \n",
      "    To detect changes in noisy multivariate time-series data it is useful\n",
      "    to consider a null hypothesis for a pair of moving windows, namely,\n",
      "    their is no difference between their average values. The statistical\n",
      "    approach of analysis of variance (ANOVA) provides a formal framework\n",
      "    for asking this question by conducting an F-test comparing the pair\n",
      "    of windows.\n",
      "    \n",
      "    For this filter we consider a pair of windows with lengths `n1` and `n2`\n",
      "    with a gap of length `g` in between.\n",
      "    \n",
      "    \n",
      "              Window 1            Gap              Window 2     \n",
      "        [ ----- n1 ----- ) [ ----- g -----) [ ------ n2 -------)\n",
      "        |                |                  |                  |\n",
      "        i           i + n1 - 1         i + n1 + g         i + n1 + n2 + g - 1\n",
      "    \n",
      "    \n",
      "    For a sequence of d-dimensional random samples in array (N, d) in `X_samples`\n",
      "    at step `i = 0, ..., N - n1 - n2 - g` the windows range over indices,\n",
      "    \n",
      "        window 1:  [i,          ..., i + n1 - 1]            (inclusive)\n",
      "        window 2:  [i + n1 + g, ..., i + n1 + n2 + g - 1]   (inclusive)\n",
      "        \n",
      "    Parameters\n",
      "    ----------\n",
      "    X_samples : (N, d) ndarray\n",
      "        random d-dimensional random samples\n",
      "    n1 : int\n",
      "        number of samples in window 1\n",
      "    n2 : int\n",
      "        number of samples in window 2\n",
      "    g : int\n",
      "        number of samples between windows\n",
      "    \n",
      "    Returns\n",
      "    -------\n",
      "    (N - n1 - n2 - g + 1) ndarray\n",
      "        F-statistic of moving window\n",
      "\n"
     ]
    }
   ],
   "source": [
    "help(rolling_F_statistic)"
   ]
  },
  {
   "cell_type": "code",
   "execution_count": 25,
   "id": "61417ba1-4a7a-49a1-a584-181cf0bba9ef",
   "metadata": {},
   "outputs": [],
   "source": [
    "fstats = rolling_F_statistic_slow(processor.data, 10, 10, 0)"
   ]
  },
  {
   "cell_type": "code",
   "execution_count": 26,
   "id": "5ed07697-b642-4dc5-a935-bf852d10c7a9",
   "metadata": {},
   "outputs": [
    {
     "ename": "LinAlgError",
     "evalue": "Matrix is singular to machine precision.",
     "output_type": "error",
     "traceback": [
      "\u001b[0;31m---------------------------------------------------------------------------\u001b[0m",
      "\u001b[0;31mLinAlgError\u001b[0m                               Traceback (most recent call last)",
      "\u001b[0;32m/var/folders/fz/jby0pb6123q8677fcnjjr4w80000gn/T/ipykernel_36409/1435045949.py\u001b[0m in \u001b[0;36m<module>\u001b[0;34m\u001b[0m\n\u001b[0;32m----> 1\u001b[0;31m \u001b[0msegments\u001b[0m \u001b[0;34m=\u001b[0m \u001b[0mprocessor\u001b[0m\u001b[0;34m.\u001b[0m\u001b[0mprocess_data\u001b[0m\u001b[0;34m(\u001b[0m\u001b[0;34m)\u001b[0m\u001b[0;34m\u001b[0m\u001b[0;34m\u001b[0m\u001b[0m\n\u001b[0m",
      "\u001b[0;32m~/Desktop/redo/jump-detection/jump_detection/processor.py\u001b[0m in \u001b[0;36mprocess_data\u001b[0;34m(self)\u001b[0m\n\u001b[1;32m     59\u001b[0m             \u001b[0mThe\u001b[0m \u001b[0mtime\u001b[0m \u001b[0mseries\u001b[0m \u001b[0;32mand\u001b[0m \u001b[0mFstat\u001b[0m \u001b[0msegments\u001b[0m \u001b[0massociated\u001b[0m \u001b[0;32mwith\u001b[0m \u001b[0meach\u001b[0m \u001b[0mpeak\u001b[0m\u001b[0;34m.\u001b[0m\u001b[0;34m\u001b[0m\u001b[0;34m\u001b[0m\u001b[0m\n\u001b[1;32m     60\u001b[0m         \"\"\"\n\u001b[0;32m---> 61\u001b[0;31m         \u001b[0mmoving_fstat\u001b[0m \u001b[0;34m=\u001b[0m \u001b[0mrolling_F_statistic\u001b[0m\u001b[0;34m(\u001b[0m\u001b[0mself\u001b[0m\u001b[0;34m.\u001b[0m\u001b[0mdata\u001b[0m\u001b[0;34m,\u001b[0m \u001b[0mself\u001b[0m\u001b[0;34m.\u001b[0m\u001b[0mwindow_size\u001b[0m\u001b[0;34m,\u001b[0m \u001b[0mself\u001b[0m\u001b[0;34m.\u001b[0m\u001b[0mwindow_size\u001b[0m\u001b[0;34m,\u001b[0m \u001b[0mself\u001b[0m\u001b[0;34m.\u001b[0m\u001b[0mgap_size\u001b[0m\u001b[0;34m)\u001b[0m\u001b[0;34m\u001b[0m\u001b[0;34m\u001b[0m\u001b[0m\n\u001b[0m\u001b[1;32m     62\u001b[0m         \u001b[0mpeaks\u001b[0m \u001b[0;34m=\u001b[0m \u001b[0mfind_peaks_in_data\u001b[0m\u001b[0;34m(\u001b[0m\u001b[0mmoving_fstat\u001b[0m\u001b[0;34m)\u001b[0m\u001b[0;34m\u001b[0m\u001b[0;34m\u001b[0m\u001b[0m\n\u001b[1;32m     63\u001b[0m         \u001b[0mself\u001b[0m\u001b[0;34m.\u001b[0m\u001b[0mmoving_fstats\u001b[0m \u001b[0;34m=\u001b[0m \u001b[0mmoving_fstat\u001b[0m\u001b[0;34m\u001b[0m\u001b[0;34m\u001b[0m\u001b[0m\n",
      "\u001b[0;32m/usr/local/lib/python3.9/site-packages/numba/np/linalg.py\u001b[0m in \u001b[0;36m_inv_err_handler\u001b[0;34m()\u001b[0m\n\u001b[1;32m    821\u001b[0m             \u001b[0;32massert\u001b[0m \u001b[0;36m0\u001b[0m   \u001b[0;31m# unreachable\u001b[0m\u001b[0;34m\u001b[0m\u001b[0;34m\u001b[0m\u001b[0m\n\u001b[1;32m    822\u001b[0m         \u001b[0;32mif\u001b[0m \u001b[0mr\u001b[0m \u001b[0;34m>\u001b[0m \u001b[0;36m0\u001b[0m\u001b[0;34m:\u001b[0m\u001b[0;34m\u001b[0m\u001b[0;34m\u001b[0m\u001b[0m\n\u001b[0;32m--> 823\u001b[0;31m             raise np.linalg.LinAlgError(\n\u001b[0m\u001b[1;32m    824\u001b[0m                 \"Matrix is singular to machine precision.\")\n\u001b[1;32m    825\u001b[0m \u001b[0;34m\u001b[0m\u001b[0m\n",
      "\u001b[0;31mLinAlgError\u001b[0m: Matrix is singular to machine precision."
     ]
    }
   ],
   "source": [
    "segments = processor.process_data()\n"
   ]
  },
  {
   "cell_type": "code",
   "execution_count": null,
   "id": "b232b4cf-d6f1-483e-a66a-587d75a68af6",
   "metadata": {},
   "outputs": [],
   "source": [
    "plt.plot(processor.moving_fstats)"
   ]
  },
  {
   "cell_type": "markdown",
   "id": "d896a548-b997-481f-aa56-6000081dce18",
   "metadata": {},
   "source": [
    "# Step 2: Reduce to single-event jumps"
   ]
  },
  {
   "cell_type": "markdown",
   "id": "3989dafb-d3a8-43a7-93be-87690cd863ca",
   "metadata": {},
   "source": [
    "## Operating on individual segments"
   ]
  },
  {
   "cell_type": "code",
   "execution_count": null,
   "id": "453add1a-3ad4-4593-b5db-341f995f0c4b",
   "metadata": {},
   "outputs": [],
   "source": [
    "# Now segments contains a list of Segment objects.\n",
    "# for i, segment in enumerate(segments[0:1]):\n",
    "#     print(f\"Segment {i}:\")\n",
    "#     print(\"Original:\")\n",
    "#     print(segment.original)\n",
    "#     print(\"Fstats:\")\n",
    "#     print(segment.Fstats)\n",
    "#     print(\"\\n\")"
   ]
  },
  {
   "cell_type": "code",
   "execution_count": null,
   "id": "f1fb1af2-527b-4f19-857f-53fd729d83c5",
   "metadata": {},
   "outputs": [],
   "source": [
    "len(segments)"
   ]
  },
  {
   "cell_type": "code",
   "execution_count": null,
   "id": "a40c5584-1def-43cc-b27a-005be07dcc9e",
   "metadata": {},
   "outputs": [],
   "source": [
    "segment = segments[0]\n",
    "segment.calculate_features()\n",
    "segment.features"
   ]
  },
  {
   "cell_type": "code",
   "execution_count": null,
   "id": "e46a608f-bff2-4add-9668-9bfd3a33f6d9",
   "metadata": {},
   "outputs": [],
   "source": [
    "segment.original"
   ]
  },
  {
   "cell_type": "markdown",
   "id": "8e78e089-2f72-4321-ae03-fa6539ddc758",
   "metadata": {},
   "source": [
    "## Getting all features"
   ]
  },
  {
   "cell_type": "code",
   "execution_count": null,
   "id": "5051c11c-1174-41e6-8a71-37c4da11204f",
   "metadata": {},
   "outputs": [],
   "source": [
    "jump_features = []\n",
    "\n",
    "# Now segments contains a list of Segment objects.\n",
    "for i, segment in enumerate(segments):\n",
    "    segment.calculate_features()\n",
    "    jump_features.append(segment.features)\n",
    "jump_features = np.array(jump_features)"
   ]
  },
  {
   "cell_type": "code",
   "execution_count": null,
   "id": "1b8e284e-c0ee-45fe-81f4-becf9e7936a4",
   "metadata": {},
   "outputs": [],
   "source": [
    "jump_features = normalize_features(jump_features)"
   ]
  },
  {
   "cell_type": "markdown",
   "id": "21b1c61f-f616-4473-8ca9-c8e9ae926929",
   "metadata": {},
   "source": [
    "## Plotting Feature Space and Eps Determination"
   ]
  },
  {
   "cell_type": "code",
   "execution_count": null,
   "id": "29c46b2b-befe-47bf-9762-20da182c024d",
   "metadata": {},
   "outputs": [],
   "source": [
    "jump_features.shape"
   ]
  },
  {
   "cell_type": "code",
   "execution_count": null,
   "id": "fd20272b-0d8d-4640-afea-d5918e72b8b8",
   "metadata": {},
   "outputs": [],
   "source": [
    "plt.scatter(jump_features[:,1],jump_features[:,2])"
   ]
  },
  {
   "cell_type": "code",
   "execution_count": null,
   "id": "737b311c-6a25-4eba-b857-a60830bd9be1",
   "metadata": {},
   "outputs": [],
   "source": [
    "eps = get_eps(jump_features)"
   ]
  },
  {
   "cell_type": "code",
   "execution_count": null,
   "id": "c91289d8-86b0-4185-84ab-f8f7e9a5317f",
   "metadata": {},
   "outputs": [],
   "source": [
    "labels = get_class_labels(jump_features, eps/6)"
   ]
  },
  {
   "cell_type": "code",
   "execution_count": null,
   "id": "bfcffaa7-9fee-48af-9121-7843d879a5e0",
   "metadata": {},
   "outputs": [],
   "source": [
    "plt.scatter(jump_features[:,1],jump_features[:,2], c = labels)"
   ]
  },
  {
   "cell_type": "markdown",
   "id": "fb05b32a-d076-4c71-8fd2-49669bd83801",
   "metadata": {},
   "source": []
  },
  {
   "cell_type": "code",
   "execution_count": null,
   "id": "0db456b9-bccd-48e1-8d60-3219d6ebec03",
   "metadata": {},
   "outputs": [],
   "source": [
    "X = np.mean(segment.original[-window_size:], axis = 1)"
   ]
  },
  {
   "cell_type": "code",
   "execution_count": null,
   "id": "4108cd74-45d1-4a72-b52a-540fee3a4318",
   "metadata": {},
   "outputs": [],
   "source": [
    "segment.calculate_freq_shift(2)"
   ]
  },
  {
   "cell_type": "code",
   "execution_count": null,
   "id": "bc6168c8-8d7a-4bf1-9b5e-670ace7005c0",
   "metadata": {},
   "outputs": [],
   "source": [
    "X"
   ]
  },
  {
   "cell_type": "code",
   "execution_count": null,
   "id": "cad94fc3-698a-4cd7-b7ec-154b0b8b1b5e",
   "metadata": {},
   "outputs": [],
   "source": [
    "val = calculate_median_jump(segments)"
   ]
  },
  {
   "cell_type": "code",
   "execution_count": null,
   "id": "7d3194fa-c6ea-4bfc-a988-97c55b6904df",
   "metadata": {},
   "outputs": [],
   "source": [
    "val"
   ]
  },
  {
   "cell_type": "code",
   "execution_count": null,
   "id": "f6d44722-1018-44af-8df7-638e91420271",
   "metadata": {},
   "outputs": [],
   "source": [
    "normalize_jump(val,0,1)"
   ]
  },
  {
   "cell_type": "code",
   "execution_count": null,
   "id": "0ee84d1a-22e2-4fb6-b398-189362c80f99",
   "metadata": {},
   "outputs": [],
   "source": [
    "for segment in segments:\n",
    "        for i in range(segment.original.shape[1]):\n",
    "            ts = segment.original[:,i]\n",
    "            test[i].append(ts)"
   ]
  },
  {
   "cell_type": "code",
   "execution_count": null,
   "id": "587a2f4e-cb2b-45ce-8a7f-71b95c0a94f4",
   "metadata": {},
   "outputs": [],
   "source": [
    "len(segments)"
   ]
  },
  {
   "cell_type": "code",
   "execution_count": null,
   "id": "339f963b-bcfd-46a4-94c9-60921a9e912b",
   "metadata": {},
   "outputs": [],
   "source": [
    "segment.original.shape\n"
   ]
  },
  {
   "cell_type": "code",
   "execution_count": null,
   "id": "b33fa982-1252-4519-953e-da532a90e2e0",
   "metadata": {},
   "outputs": [],
   "source": [
    "val"
   ]
  },
  {
   "cell_type": "code",
   "execution_count": null,
   "id": "c9a78334-5f0e-417d-b28f-fc310bb03413",
   "metadata": {},
   "outputs": [],
   "source": []
  }
 ],
 "metadata": {
  "kernelspec": {
   "display_name": "Python 3 (ipykernel)",
   "language": "python",
   "name": "python3"
  },
  "language_info": {
   "codemirror_mode": {
    "name": "ipython",
    "version": 3
   },
   "file_extension": ".py",
   "mimetype": "text/x-python",
   "name": "python",
   "nbconvert_exporter": "python",
   "pygments_lexer": "ipython3",
   "version": "3.9.16"
  }
 },
 "nbformat": 4,
 "nbformat_minor": 5
}
